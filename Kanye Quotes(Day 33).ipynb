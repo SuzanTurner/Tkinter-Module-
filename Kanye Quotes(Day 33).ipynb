{
 "cells": [
  {
   "cell_type": "code",
   "execution_count": 1,
   "id": "43ee40d1-3dbb-4931-86ea-b7d80ec9ebf1",
   "metadata": {},
   "outputs": [
    {
     "name": "stdout",
     "output_type": "stream",
     "text": [
      "200\n"
     ]
    }
   ],
   "source": [
    "import requests\n",
    "\n",
    "response = requests.get(url=r\"http://api.open-notify.org/iss-now.json\")\n",
    "print(response.status_code)"
   ]
  },
  {
   "cell_type": "code",
   "execution_count": 2,
   "id": "11d308f5-f1bb-4772-8545-c7f311639bfd",
   "metadata": {},
   "outputs": [
    {
     "name": "stdout",
     "output_type": "stream",
     "text": [
      "{'iss_position': {'longitude': '-135.5535', 'latitude': '-30.8774'}, 'timestamp': 1724654484, 'message': 'success'}\n"
     ]
    }
   ],
   "source": [
    "data = response.json()\n",
    "print(data)"
   ]
  },
  {
   "cell_type": "code",
   "execution_count": 70,
   "id": "1c7e3286-567c-46c4-8012-ca08374023aa",
   "metadata": {},
   "outputs": [],
   "source": [
    "import tkinter\n",
    "import requests\n"
   ]
  },
  {
   "cell_type": "code",
   "execution_count": 80,
   "id": "223d4cd2-4e9d-47ee-8f03-1df66d882576",
   "metadata": {},
   "outputs": [],
   "source": [
    "import textwrap"
   ]
  },
  {
   "cell_type": "code",
   "execution_count": null,
   "id": "889853a8-b594-430f-a877-73bfdb2a7e15",
   "metadata": {},
   "outputs": [],
   "source": [
    "window = tkinter.Tk()\n",
    "\n",
    "img = tkinter.PhotoImage(file = r\"D:\\Yadh Documents\\100 Days of Code Python\\kanye-quotes-start\\background.png\")\n",
    "\n",
    "window.minsize(width = 320, height = 500)\n",
    "window.title(\"Kanye Quotes\")\n",
    "window.config(bg = \"white\", pady = 10, padx = 10)\n",
    "\n",
    "canvas = tkinter.Canvas(width = img.width(), height = img.height(), bg = \"white\")\n",
    "canvas.create_image(img.width()//2, img.height()//2, image = img)\n",
    "canvas.grid(column = 1, row = 1)\n",
    "\n",
    "text_data = canvas.create_text(100,100,text = f\"  Kanye Quotes...\", fill = \"white\", font = (\"Comic Sans MS\", 20, \"normal\"))\n",
    "\n",
    "def wrap_text(text, width):\n",
    "    return textwrap.fill(text, width=width)\n",
    "    \n",
    "def quote():\n",
    "    global text_data\n",
    "    canvas.delete(text_data)\n",
    "    quotes = requests.get(url = \"https://api.kanye.rest\")\n",
    "    quotes.raise_for_status()\n",
    "    q = quotes.json()\n",
    "    quote = q[\"quote\"]\n",
    "    wrapped_text = wrap_text(quote, width=20)\n",
    "    text_data = canvas.create_text(150,200,text = f\"{wrapped_text}\", fill = \"white\",font = (\"Comic Sans MS\", 20, \"normal\"))\n",
    "\n",
    "kanye = tkinter.PhotoImage(file = r\"D:\\Yadh Documents\\100 Days of Code Python\\kanye-quotes-start\\kanye.png\")\n",
    "kanye_button = tkinter.Button(image = kanye, command = quote, bg = \"white\")\n",
    "kanye_button.grid(column =1, row = 2, padx = 5, pady =5)\n",
    "\n",
    "window.mainloop()"
   ]
  },
  {
   "cell_type": "code",
   "execution_count": 91,
   "id": "394058f8-66b2-4fe2-a274-3317976a3336",
   "metadata": {},
   "outputs": [
    {
     "name": "stdout",
     "output_type": "stream",
     "text": [
      "Defaulting to user installation because normal site-packages is not writeable\n",
      "Collecting wraptext\n",
      "  Using cached wraptext-0.1.0b1.tar.gz (5.3 kB)\n",
      "  Installing build dependencies: started\n",
      "  Installing build dependencies: finished with status 'done'\n",
      "  Getting requirements to build wheel: started\n",
      "  Getting requirements to build wheel: finished with status 'done'\n",
      "  Preparing metadata (pyproject.toml): started\n",
      "  Preparing metadata (pyproject.toml): finished with status 'error'\n"
     ]
    },
    {
     "name": "stderr",
     "output_type": "stream",
     "text": [
      "  error: subprocess-exited-with-error\n",
      "  \n",
      "  Preparing metadata (pyproject.toml) did not run successfully.\n",
      "  exit code: 1\n",
      "  \n",
      "  [6 lines of output]\n",
      "  \n",
      "  Cargo, the Rust package manager, is not installed or is not on PATH.\n",
      "  This package requires Rust and Cargo to compile extensions. Install it through\n",
      "  the system's package manager or via https://rustup.rs/\n",
      "  \n",
      "  Checking for Rust toolchain....\n",
      "  [end of output]\n",
      "  \n",
      "  note: This error originates from a subprocess, and is likely not a problem with pip.\n",
      "error: metadata-generation-failed\n",
      "\n",
      "Encountered error while generating package metadata.\n",
      "\n",
      "See above for output.\n",
      "\n",
      "note: This is an issue with the package mentioned above, not pip.\n",
      "hint: See above for details.\n"
     ]
    }
   ],
   "source": [
    "!pip install wraptext"
   ]
  },
  {
   "cell_type": "code",
   "execution_count": null,
   "id": "53391941-f3b4-4c60-8c0e-8f74a27a752b",
   "metadata": {},
   "outputs": [],
   "source": []
  },
  {
   "cell_type": "code",
   "execution_count": null,
   "id": "9dd5d109-1344-4e6e-877b-758d9781f61c",
   "metadata": {},
   "outputs": [],
   "source": []
  }
 ],
 "metadata": {
  "kernelspec": {
   "display_name": "Python 3 (ipykernel)",
   "language": "python",
   "name": "python3"
  },
  "language_info": {
   "codemirror_mode": {
    "name": "ipython",
    "version": 3
   },
   "file_extension": ".py",
   "mimetype": "text/x-python",
   "name": "python",
   "nbconvert_exporter": "python",
   "pygments_lexer": "ipython3",
   "version": "3.11.9"
  }
 },
 "nbformat": 4,
 "nbformat_minor": 5
}
