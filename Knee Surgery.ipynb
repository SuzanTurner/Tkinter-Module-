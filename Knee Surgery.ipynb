{
 "cells": [
  {
   "cell_type": "code",
   "execution_count": null,
   "id": "72362342-92f2-42d1-a495-29b48255e004",
   "metadata": {},
   "outputs": [
    {
     "name": "stdout",
     "output_type": "stream",
     "text": [
      "pygame 2.6.1 (SDL 2.28.4, Python 3.12.6)\n",
      "Hello from the pygame community. https://www.pygame.org/contribute.html\n"
     ]
    }
   ],
   "source": [
    "import tkinter\n",
    "import pygame\n",
    "from PIL import Image, ImageTk\n",
    "\n",
    "window = tkinter.Tk()\n",
    "window.minsize(width = 300, height = 300)\n",
    "window.title(\"Knee Surgery\")\n",
    "window.configure(bg=\"#034871\")\n",
    "\n",
    "img = Image.open(r\"C:\\Users\\hp\\Downloads\\grinch.jpg\")\n",
    "grinch = ImageTk.PhotoImage(img)\n",
    "label = tkinter.Label(image=grinch)\n",
    "label.image = grinch # Keep a reference to avoid garbage collection\n",
    "label.grid(row = 1, column = 1, columnspan = 2)\n",
    "\n",
    "pygame.mixer.init()\n",
    "pygame.mixer.music.load(r\"C:\\Users\\hp\\Downloads\\That Feeling.mp3\")\n",
    "pygame.mixer.music.play(-1)\n",
    "\n",
    "ques = tkinter.Label()\n",
    "ques.config(text = \"Is Knee Surgery tommorow?\", font = (\"Helvetica\", 13, \"bold\"), bg = \"#034871\", fg = \"white\")\n",
    "ques.grid(row = 2, column = 1, columnspan = 2)\n",
    "\n",
    "tick = tkinter.PhotoImage(file=r\"C:\\Users\\hp\\Downloads\\true.png\")\n",
    "cross = tkinter.PhotoImage(file=r\"C:\\Users\\hp\\Downloads\\false.png\")\n",
    "\n",
    "feeling = tkinter.Label()\n",
    "def on_tick():\n",
    "    feeling.config(text = \"That feeling: Good\", font = (\"Helvetica\", 15, \"bold\"), bg = \"#034871\", fg = \"white\")\n",
    "    feeling.grid(row = 4, column = 1, columnspan = 2)\n",
    "\n",
    "def on_cross():\n",
    "    feeling.config(text = \"That feeling: Bad\", font = (\"Helvetica\", 15, \"bold\"), bg = \"#034871\", fg = \"white\")\n",
    "    feeling.grid(row = 4, column = 1, columnspan = 2)\n",
    "\n",
    "tick_button = tkinter.Button( image=tick, command=on_tick, highlightthickness = 2)\n",
    "tick_button.grid(row=3, column=1, padx=10, pady=10)\n",
    "\n",
    "cross_button = tkinter.Button( image=cross, command=on_cross, highlightthickness = 2)\n",
    "cross_button.grid(row=3, column=2, padx=10, pady=10)\n",
    "\n",
    "window.mainloop()\n",
    "pygame.mixer.music.stop()"
   ]
  },
  {
   "cell_type": "code",
   "execution_count": 14,
   "id": "c1cb9463-4212-41ab-9049-0e8174da37b3",
   "metadata": {},
   "outputs": [],
   "source": [
    "import pygame"
   ]
  },
  {
   "cell_type": "code",
   "execution_count": null,
   "id": "a08d458f-429a-4d7a-934c-4b51c474f09d",
   "metadata": {},
   "outputs": [],
   "source": []
  }
 ],
 "metadata": {
  "kernelspec": {
   "display_name": "Python 3 (ipykernel)",
   "language": "python",
   "name": "python3"
  },
  "language_info": {
   "codemirror_mode": {
    "name": "ipython",
    "version": 3
   },
   "file_extension": ".py",
   "mimetype": "text/x-python",
   "name": "python",
   "nbconvert_exporter": "python",
   "pygments_lexer": "ipython3",
   "version": "3.12.6"
  }
 },
 "nbformat": 4,
 "nbformat_minor": 5
}
