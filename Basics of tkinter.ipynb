{
 "cells": [
  {
   "cell_type": "code",
   "execution_count": 1,
   "id": "1fad7b34-0968-4905-a046-b18bab64446e",
   "metadata": {},
   "outputs": [],
   "source": [
    "import tkinter"
   ]
  },
  {
   "cell_type": "code",
   "execution_count": 21,
   "id": "8f2a84f2-e20a-4bd6-b857-4fc5cb599665",
   "metadata": {},
   "outputs": [],
   "source": [
    "window = tkinter.Tk()\n",
    "window.minsize(width = 500, height = 300)\n",
    "window.title(\"Example\")\n",
    "\n",
    "label = tkinter.Label(text = \"Hello World\", font = (\"Ariel\", 20, \"normal\"))\n",
    "label2 = tkinter.Label(text = \"I am a label\", font = (\"Ariel\", 20, \"normal\"))\n",
    "label.pack(side = \"left\")\n",
    "label2.pack()\n",
    "\n",
    "window.mainloop()"
   ]
  },
  {
   "cell_type": "markdown",
   "id": "19b3fb6d-0c38-48b1-a437-acf0def8d2fe",
   "metadata": {},
   "source": [
    "##### We can pass non definite number of values into functions by using the (*) symbol followed by variable name. The variable stores the arguments in the form of a tuple."
   ]
  },
  {
   "cell_type": "code",
   "execution_count": 15,
   "id": "99be07a2-367f-4357-8afc-36cdad049b15",
   "metadata": {},
   "outputs": [
    {
     "name": "stdout",
     "output_type": "stream",
     "text": [
      "sum = 42\n",
      "<class 'tuple'>\n"
     ]
    }
   ],
   "source": [
    "def sum(*args):\n",
    "    s = 0\n",
    "    for i in args:\n",
    "        s = s + i\n",
    "    print(\"sum =\", s)\n",
    "    print(type(args)) # stores values as a tuple\n",
    "\n",
    "sum(3,4,5,7,4,5,6,8)"
   ]
  },
  {
   "cell_type": "code",
   "execution_count": 24,
   "id": "0483bdd6-bd1d-4938-b039-5f292f98f4d2",
   "metadata": {},
   "outputs": [],
   "source": [
    "window = tkinter.Tk()\n",
    "window.minsize(width = 500, height = 300)\n",
    "window.title(\"Example\")\n",
    "\n",
    "label = tkinter.Label(text = \"Hello World\", font = (\"Ariel\", 20, \"normal\"))\n",
    "label.pack(side = \"left\")\n",
    "label[\"text\"] = \"New Text\" #Using it like a dictionary\n",
    "\n",
    "\n",
    "window.mainloop()"
   ]
  },
  {
   "cell_type": "markdown",
   "id": "daae5241-6fa5-437f-8b30-41cb19c87506",
   "metadata": {},
   "source": [
    "#### This can also be done using .config function"
   ]
  },
  {
   "cell_type": "code",
   "execution_count": 27,
   "id": "7877a119-714b-4fc2-a469-c84051857ddf",
   "metadata": {},
   "outputs": [],
   "source": [
    "window = tkinter.Tk()\n",
    "window.minsize(width = 500, height = 300)\n",
    "window.title(\"Example\")\n",
    "\n",
    "label = tkinter.Label(text = \"Hello World\", font = (\"Ariel\", 20, \"normal\"))\n",
    "label.pack()\n",
    "label.config(text = \"Changed by config\")\n",
    "\n",
    "\n",
    "window.mainloop()"
   ]
  },
  {
   "cell_type": "code",
   "execution_count": 34,
   "id": "d4235609-ee86-4f35-9569-49fac6d32a67",
   "metadata": {},
   "outputs": [
    {
     "name": "stdout",
     "output_type": "stream",
     "text": [
      "Clicked\n",
      "Clicked\n"
     ]
    }
   ],
   "source": [
    "window = tkinter.Tk()\n",
    "window.minsize(width = 500, height = 300)\n",
    "window.title(\"Example\")\n",
    "\n",
    "def clicked():\n",
    "    print(\"Clicked\")\n",
    "\n",
    "button = tkinter.Button(text = \"click me\", command = clicked )\n",
    "button.pack()\n",
    "\n",
    "\n",
    "window.mainloop()"
   ]
  },
  {
   "cell_type": "code",
   "execution_count": 38,
   "id": "6c53dd0f-e3fd-41db-8dfa-511d5b050a5c",
   "metadata": {},
   "outputs": [],
   "source": [
    "window = tkinter.Tk()\n",
    "window.minsize(width = 500, height = 300)\n",
    "window.title(\"Example\")\n",
    "\n",
    "def clicked():\n",
    "    label = tkinter.Label()\n",
    "    label.config(text = \"Button Clicked\")\n",
    "    label.pack()\n",
    "\n",
    "button = tkinter.Button(text = \"click me\", command = clicked )\n",
    "button.pack()\n",
    "\n",
    "\n",
    "window.mainloop()"
   ]
  },
  {
   "cell_type": "code",
   "execution_count": 44,
   "id": "6e3e7d99-f8af-4d44-91a2-9122673f00aa",
   "metadata": {},
   "outputs": [],
   "source": [
    "window = tkinter.Tk()\n",
    "window.minsize(width = 500, height = 300)\n",
    "window.title(\"Example\")\n",
    "\n",
    "def clicked():\n",
    "    label = tkinter.Label()\n",
    "    label.config(text = input.get())\n",
    "    label.pack()\n",
    "\n",
    "button = tkinter.Button(text = \"click me\", command = clicked )\n",
    "button.pack()\n",
    "\n",
    "input = tkinter.Entry()\n",
    "input.pack()\n",
    "\n",
    "\n",
    "window.mainloop()"
   ]
  },
  {
   "cell_type": "code",
   "execution_count": null,
   "id": "cf2a004e-43c1-4aab-af45-48017ca1c37c",
   "metadata": {},
   "outputs": [],
   "source": []
  }
 ],
 "metadata": {
  "kernelspec": {
   "display_name": "Python 3 (ipykernel)",
   "language": "python",
   "name": "python3"
  },
  "language_info": {
   "codemirror_mode": {
    "name": "ipython",
    "version": 3
   },
   "file_extension": ".py",
   "mimetype": "text/x-python",
   "name": "python",
   "nbconvert_exporter": "python",
   "pygments_lexer": "ipython3",
   "version": "3.11.9"
  }
 },
 "nbformat": 4,
 "nbformat_minor": 5
}
