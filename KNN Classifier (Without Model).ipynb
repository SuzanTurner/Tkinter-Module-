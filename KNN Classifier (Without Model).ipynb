{
 "cells": [
  {
   "cell_type": "code",
   "execution_count": 140,
   "id": "cb90b291-97a6-409d-958a-0a8584cd2ef8",
   "metadata": {},
   "outputs": [],
   "source": [
    "import pandas\n",
    "import os"
   ]
  },
  {
   "cell_type": "code",
   "execution_count": 141,
   "id": "a6165758-f090-4a85-ae59-31900e10dd9e",
   "metadata": {},
   "outputs": [
    {
     "name": "stdout",
     "output_type": "stream",
     "text": [
      "True\n"
     ]
    }
   ],
   "source": [
    "print(os.path.exists(r\"C:\\Users\\hp\\Downloads\\action.csv\"))"
   ]
  },
  {
   "cell_type": "code",
   "execution_count": 142,
   "id": "4ee7a199-e24c-4d07-a60c-69e15c802e46",
   "metadata": {},
   "outputs": [],
   "source": [
    "df = pandas.read_csv(r\"C:\\Users\\hp\\Downloads\\action.csv\")"
   ]
  },
  {
   "cell_type": "code",
   "execution_count": 143,
   "id": "69613f9a-ab24-4d90-8ead-7cf98aca1859",
   "metadata": {},
   "outputs": [
    {
     "data": {
      "text/html": [
       "<div>\n",
       "<style scoped>\n",
       "    .dataframe tbody tr th:only-of-type {\n",
       "        vertical-align: middle;\n",
       "    }\n",
       "\n",
       "    .dataframe tbody tr th {\n",
       "        vertical-align: top;\n",
       "    }\n",
       "\n",
       "    .dataframe thead th {\n",
       "        text-align: right;\n",
       "    }\n",
       "</style>\n",
       "<table border=\"1\" class=\"dataframe\">\n",
       "  <thead>\n",
       "    <tr style=\"text-align: right;\">\n",
       "      <th></th>\n",
       "      <th>movie_id</th>\n",
       "      <th>movie_name</th>\n",
       "      <th>year</th>\n",
       "      <th>certificate</th>\n",
       "      <th>runtime</th>\n",
       "      <th>genre</th>\n",
       "      <th>rating</th>\n",
       "      <th>description</th>\n",
       "      <th>director</th>\n",
       "      <th>director_id</th>\n",
       "      <th>star</th>\n",
       "      <th>star_id</th>\n",
       "      <th>votes</th>\n",
       "      <th>gross(in $)</th>\n",
       "    </tr>\n",
       "  </thead>\n",
       "  <tbody>\n",
       "    <tr>\n",
       "      <th>0</th>\n",
       "      <td>tt9114286</td>\n",
       "      <td>Black Panther: Wakanda Forever</td>\n",
       "      <td>2022</td>\n",
       "      <td>PG-13</td>\n",
       "      <td>161 min</td>\n",
       "      <td>Action, Adventure, Drama</td>\n",
       "      <td>6.9</td>\n",
       "      <td>The people of Wakanda fight to protect their h...</td>\n",
       "      <td>Ryan Coogler</td>\n",
       "      <td>/name/nm3363032/</td>\n",
       "      <td>Letitia Wright, \\nLupita Nyong'o, \\nDanai Guri...</td>\n",
       "      <td>/name/nm4004793/,/name/nm2143282/,/name/nm1775...</td>\n",
       "      <td>204835.0</td>\n",
       "      <td>NaN</td>\n",
       "    </tr>\n",
       "    <tr>\n",
       "      <th>1</th>\n",
       "      <td>tt1630029</td>\n",
       "      <td>Avatar: The Way of Water</td>\n",
       "      <td>2022</td>\n",
       "      <td>PG-13</td>\n",
       "      <td>192 min</td>\n",
       "      <td>Action, Adventure, Fantasy</td>\n",
       "      <td>7.8</td>\n",
       "      <td>Jake Sully lives with his newfound family form...</td>\n",
       "      <td>James Cameron</td>\n",
       "      <td>/name/nm0000116/</td>\n",
       "      <td>Sam Worthington, \\nZoe Saldana, \\nSigourney We...</td>\n",
       "      <td>/name/nm0941777/,/name/nm0757855/,/name/nm0000...</td>\n",
       "      <td>295119.0</td>\n",
       "      <td>NaN</td>\n",
       "    </tr>\n",
       "    <tr>\n",
       "      <th>2</th>\n",
       "      <td>tt5884796</td>\n",
       "      <td>Plane</td>\n",
       "      <td>2023</td>\n",
       "      <td>R</td>\n",
       "      <td>107 min</td>\n",
       "      <td>Action, Thriller</td>\n",
       "      <td>6.5</td>\n",
       "      <td>A pilot finds himself caught in a war zone aft...</td>\n",
       "      <td>Jean-François Richet</td>\n",
       "      <td>/name/nm0724938/</td>\n",
       "      <td>Gerard Butler, \\nMike Colter, \\nTony Goldwyn, ...</td>\n",
       "      <td>/name/nm0124930/,/name/nm1591496/,/name/nm0001...</td>\n",
       "      <td>26220.0</td>\n",
       "      <td>NaN</td>\n",
       "    </tr>\n",
       "    <tr>\n",
       "      <th>3</th>\n",
       "      <td>tt6710474</td>\n",
       "      <td>Everything Everywhere All at Once</td>\n",
       "      <td>2022</td>\n",
       "      <td>R</td>\n",
       "      <td>139 min</td>\n",
       "      <td>Action, Adventure, Comedy</td>\n",
       "      <td>8.0</td>\n",
       "      <td>A middle-aged Chinese immigrant is swept up in...</td>\n",
       "      <td>Dan Kwan, \\nDaniel Scheinert</td>\n",
       "      <td>/name/nm3453283/</td>\n",
       "      <td>Michelle Yeoh, \\nStephanie Hsu, \\nJamie Lee Cu...</td>\n",
       "      <td>/name/nm3215397/,/name/nm0000706/,/name/nm3513...</td>\n",
       "      <td>327858.0</td>\n",
       "      <td>NaN</td>\n",
       "    </tr>\n",
       "    <tr>\n",
       "      <th>4</th>\n",
       "      <td>tt5433140</td>\n",
       "      <td>Fast X</td>\n",
       "      <td>2023</td>\n",
       "      <td>NaN</td>\n",
       "      <td>NaN</td>\n",
       "      <td>Action, Crime, Mystery</td>\n",
       "      <td>NaN</td>\n",
       "      <td>Dom Toretto and his family are targeted by the...</td>\n",
       "      <td>Louis Leterrier</td>\n",
       "      <td>/name/nm0504642/</td>\n",
       "      <td>Vin Diesel, \\nJordana Brewster, \\nTyrese Gibso...</td>\n",
       "      <td>/name/nm0004874/,/name/nm0108287/,/name/nm0879...</td>\n",
       "      <td>NaN</td>\n",
       "      <td>NaN</td>\n",
       "    </tr>\n",
       "  </tbody>\n",
       "</table>\n",
       "</div>"
      ],
      "text/plain": [
       "    movie_id                         movie_name  year certificate  runtime  \\\n",
       "0  tt9114286     Black Panther: Wakanda Forever  2022       PG-13  161 min   \n",
       "1  tt1630029           Avatar: The Way of Water  2022       PG-13  192 min   \n",
       "2  tt5884796                              Plane  2023           R  107 min   \n",
       "3  tt6710474  Everything Everywhere All at Once  2022           R  139 min   \n",
       "4  tt5433140                             Fast X  2023         NaN      NaN   \n",
       "\n",
       "                        genre  rating  \\\n",
       "0    Action, Adventure, Drama     6.9   \n",
       "1  Action, Adventure, Fantasy     7.8   \n",
       "2            Action, Thriller     6.5   \n",
       "3   Action, Adventure, Comedy     8.0   \n",
       "4      Action, Crime, Mystery     NaN   \n",
       "\n",
       "                                         description  \\\n",
       "0  The people of Wakanda fight to protect their h...   \n",
       "1  Jake Sully lives with his newfound family form...   \n",
       "2  A pilot finds himself caught in a war zone aft...   \n",
       "3  A middle-aged Chinese immigrant is swept up in...   \n",
       "4  Dom Toretto and his family are targeted by the...   \n",
       "\n",
       "                       director       director_id  \\\n",
       "0                  Ryan Coogler  /name/nm3363032/   \n",
       "1                 James Cameron  /name/nm0000116/   \n",
       "2          Jean-François Richet  /name/nm0724938/   \n",
       "3  Dan Kwan, \\nDaniel Scheinert  /name/nm3453283/   \n",
       "4               Louis Leterrier  /name/nm0504642/   \n",
       "\n",
       "                                                star  \\\n",
       "0  Letitia Wright, \\nLupita Nyong'o, \\nDanai Guri...   \n",
       "1  Sam Worthington, \\nZoe Saldana, \\nSigourney We...   \n",
       "2  Gerard Butler, \\nMike Colter, \\nTony Goldwyn, ...   \n",
       "3  Michelle Yeoh, \\nStephanie Hsu, \\nJamie Lee Cu...   \n",
       "4  Vin Diesel, \\nJordana Brewster, \\nTyrese Gibso...   \n",
       "\n",
       "                                             star_id     votes  gross(in $)  \n",
       "0  /name/nm4004793/,/name/nm2143282/,/name/nm1775...  204835.0          NaN  \n",
       "1  /name/nm0941777/,/name/nm0757855/,/name/nm0000...  295119.0          NaN  \n",
       "2  /name/nm0124930/,/name/nm1591496/,/name/nm0001...   26220.0          NaN  \n",
       "3  /name/nm3215397/,/name/nm0000706/,/name/nm3513...  327858.0          NaN  \n",
       "4  /name/nm0004874/,/name/nm0108287/,/name/nm0879...       NaN          NaN  "
      ]
     },
     "execution_count": 143,
     "metadata": {},
     "output_type": "execute_result"
    }
   ],
   "source": [
    "df.head()"
   ]
  },
  {
   "cell_type": "code",
   "execution_count": 144,
   "id": "c01c9bc7-3b94-4d3e-8ba9-1102b7bfcb23",
   "metadata": {},
   "outputs": [],
   "source": [
    "df = df.drop([\"movie_id\", \"year\", \"certificate\", \"description\", \"director\", \"director_id\", \"star\", \"star_id\", \"votes\", \"gross(in $)\"], axis = 1)"
   ]
  },
  {
   "cell_type": "code",
   "execution_count": 145,
   "id": "1b2a062d-48fe-4f3e-bee2-707898eb0da5",
   "metadata": {},
   "outputs": [
    {
     "data": {
      "text/html": [
       "<div>\n",
       "<style scoped>\n",
       "    .dataframe tbody tr th:only-of-type {\n",
       "        vertical-align: middle;\n",
       "    }\n",
       "\n",
       "    .dataframe tbody tr th {\n",
       "        vertical-align: top;\n",
       "    }\n",
       "\n",
       "    .dataframe thead th {\n",
       "        text-align: right;\n",
       "    }\n",
       "</style>\n",
       "<table border=\"1\" class=\"dataframe\">\n",
       "  <thead>\n",
       "    <tr style=\"text-align: right;\">\n",
       "      <th></th>\n",
       "      <th>movie_name</th>\n",
       "      <th>runtime</th>\n",
       "      <th>genre</th>\n",
       "      <th>rating</th>\n",
       "    </tr>\n",
       "  </thead>\n",
       "  <tbody>\n",
       "    <tr>\n",
       "      <th>0</th>\n",
       "      <td>Black Panther: Wakanda Forever</td>\n",
       "      <td>161 min</td>\n",
       "      <td>Action, Adventure, Drama</td>\n",
       "      <td>6.9</td>\n",
       "    </tr>\n",
       "    <tr>\n",
       "      <th>1</th>\n",
       "      <td>Avatar: The Way of Water</td>\n",
       "      <td>192 min</td>\n",
       "      <td>Action, Adventure, Fantasy</td>\n",
       "      <td>7.8</td>\n",
       "    </tr>\n",
       "    <tr>\n",
       "      <th>2</th>\n",
       "      <td>Plane</td>\n",
       "      <td>107 min</td>\n",
       "      <td>Action, Thriller</td>\n",
       "      <td>6.5</td>\n",
       "    </tr>\n",
       "    <tr>\n",
       "      <th>3</th>\n",
       "      <td>Everything Everywhere All at Once</td>\n",
       "      <td>139 min</td>\n",
       "      <td>Action, Adventure, Comedy</td>\n",
       "      <td>8.0</td>\n",
       "    </tr>\n",
       "    <tr>\n",
       "      <th>4</th>\n",
       "      <td>Fast X</td>\n",
       "      <td>NaN</td>\n",
       "      <td>Action, Crime, Mystery</td>\n",
       "      <td>NaN</td>\n",
       "    </tr>\n",
       "  </tbody>\n",
       "</table>\n",
       "</div>"
      ],
      "text/plain": [
       "                          movie_name  runtime                       genre  \\\n",
       "0     Black Panther: Wakanda Forever  161 min    Action, Adventure, Drama   \n",
       "1           Avatar: The Way of Water  192 min  Action, Adventure, Fantasy   \n",
       "2                              Plane  107 min            Action, Thriller   \n",
       "3  Everything Everywhere All at Once  139 min   Action, Adventure, Comedy   \n",
       "4                             Fast X      NaN      Action, Crime, Mystery   \n",
       "\n",
       "   rating  \n",
       "0     6.9  \n",
       "1     7.8  \n",
       "2     6.5  \n",
       "3     8.0  \n",
       "4     NaN  "
      ]
     },
     "execution_count": 145,
     "metadata": {},
     "output_type": "execute_result"
    }
   ],
   "source": [
    "df.head()"
   ]
  },
  {
   "cell_type": "code",
   "execution_count": 146,
   "id": "a6c258ef-46e6-4d15-a054-f9bf970b0ecd",
   "metadata": {},
   "outputs": [
    {
     "data": {
      "text/plain": [
       "movie_name        1\n",
       "runtime       19922\n",
       "genre             0\n",
       "rating        23004\n",
       "dtype: int64"
      ]
     },
     "execution_count": 146,
     "metadata": {},
     "output_type": "execute_result"
    }
   ],
   "source": [
    "df.isnull().sum()"
   ]
  },
  {
   "cell_type": "code",
   "execution_count": 147,
   "id": "c02a949e-364d-41b0-88d9-1626e06eab4a",
   "metadata": {},
   "outputs": [
    {
     "data": {
      "text/plain": [
       "(52452, 4)"
      ]
     },
     "execution_count": 147,
     "metadata": {},
     "output_type": "execute_result"
    }
   ],
   "source": [
    "df.shape"
   ]
  },
  {
   "cell_type": "code",
   "execution_count": 148,
   "id": "d879b4d6-44e3-4e6c-a1ef-2e26bb71a3cd",
   "metadata": {},
   "outputs": [
    {
     "data": {
      "text/html": [
       "<div>\n",
       "<style scoped>\n",
       "    .dataframe tbody tr th:only-of-type {\n",
       "        vertical-align: middle;\n",
       "    }\n",
       "\n",
       "    .dataframe tbody tr th {\n",
       "        vertical-align: top;\n",
       "    }\n",
       "\n",
       "    .dataframe thead th {\n",
       "        text-align: right;\n",
       "    }\n",
       "</style>\n",
       "<table border=\"1\" class=\"dataframe\">\n",
       "  <thead>\n",
       "    <tr style=\"text-align: right;\">\n",
       "      <th></th>\n",
       "      <th>movie_name</th>\n",
       "      <th>runtime</th>\n",
       "      <th>genre</th>\n",
       "      <th>rating</th>\n",
       "    </tr>\n",
       "  </thead>\n",
       "  <tbody>\n",
       "    <tr>\n",
       "      <th>0</th>\n",
       "      <td>Black Panther: Wakanda Forever</td>\n",
       "      <td>161 min</td>\n",
       "      <td>Action, Adventure, Drama</td>\n",
       "      <td>6.9</td>\n",
       "    </tr>\n",
       "    <tr>\n",
       "      <th>1</th>\n",
       "      <td>Avatar: The Way of Water</td>\n",
       "      <td>192 min</td>\n",
       "      <td>Action, Adventure, Fantasy</td>\n",
       "      <td>7.8</td>\n",
       "    </tr>\n",
       "    <tr>\n",
       "      <th>2</th>\n",
       "      <td>Plane</td>\n",
       "      <td>107 min</td>\n",
       "      <td>Action, Thriller</td>\n",
       "      <td>6.5</td>\n",
       "    </tr>\n",
       "    <tr>\n",
       "      <th>3</th>\n",
       "      <td>Everything Everywhere All at Once</td>\n",
       "      <td>139 min</td>\n",
       "      <td>Action, Adventure, Comedy</td>\n",
       "      <td>8.0</td>\n",
       "    </tr>\n",
       "    <tr>\n",
       "      <th>5</th>\n",
       "      <td>Ant-Man and the Wasp: Quantumania</td>\n",
       "      <td>125 min</td>\n",
       "      <td>Action, Adventure, Comedy</td>\n",
       "      <td>6.6</td>\n",
       "    </tr>\n",
       "    <tr>\n",
       "      <th>...</th>\n",
       "      <td>...</td>\n",
       "      <td>...</td>\n",
       "      <td>...</td>\n",
       "      <td>...</td>\n",
       "    </tr>\n",
       "    <tr>\n",
       "      <th>52393</th>\n",
       "      <td>The Hitch</td>\n",
       "      <td>63 min</td>\n",
       "      <td>Action, Comedy, Crime</td>\n",
       "      <td>6.4</td>\n",
       "    </tr>\n",
       "    <tr>\n",
       "      <th>52404</th>\n",
       "      <td>The Empty Hands</td>\n",
       "      <td>90 min</td>\n",
       "      <td>Action</td>\n",
       "      <td>8.6</td>\n",
       "    </tr>\n",
       "    <tr>\n",
       "      <th>52413</th>\n",
       "      <td>Aag Ke Sholay</td>\n",
       "      <td>138 min</td>\n",
       "      <td>Action, Thriller</td>\n",
       "      <td>4.2</td>\n",
       "    </tr>\n",
       "    <tr>\n",
       "      <th>52419</th>\n",
       "      <td>AK 47</td>\n",
       "      <td>125 min</td>\n",
       "      <td>Action, Thriller</td>\n",
       "      <td>5.2</td>\n",
       "    </tr>\n",
       "    <tr>\n",
       "      <th>52421</th>\n",
       "      <td>Black &amp; Blue</td>\n",
       "      <td>105 min</td>\n",
       "      <td>Action, Drama</td>\n",
       "      <td>5.3</td>\n",
       "    </tr>\n",
       "  </tbody>\n",
       "</table>\n",
       "<p>26315 rows × 4 columns</p>\n",
       "</div>"
      ],
      "text/plain": [
       "                              movie_name  runtime                       genre  \\\n",
       "0         Black Panther: Wakanda Forever  161 min    Action, Adventure, Drama   \n",
       "1               Avatar: The Way of Water  192 min  Action, Adventure, Fantasy   \n",
       "2                                  Plane  107 min            Action, Thriller   \n",
       "3      Everything Everywhere All at Once  139 min   Action, Adventure, Comedy   \n",
       "5      Ant-Man and the Wasp: Quantumania  125 min   Action, Adventure, Comedy   \n",
       "...                                  ...      ...                         ...   \n",
       "52393                          The Hitch   63 min       Action, Comedy, Crime   \n",
       "52404                    The Empty Hands   90 min                      Action   \n",
       "52413                      Aag Ke Sholay  138 min            Action, Thriller   \n",
       "52419                              AK 47  125 min            Action, Thriller   \n",
       "52421                       Black & Blue  105 min               Action, Drama   \n",
       "\n",
       "       rating  \n",
       "0         6.9  \n",
       "1         7.8  \n",
       "2         6.5  \n",
       "3         8.0  \n",
       "5         6.6  \n",
       "...       ...  \n",
       "52393     6.4  \n",
       "52404     8.6  \n",
       "52413     4.2  \n",
       "52419     5.2  \n",
       "52421     5.3  \n",
       "\n",
       "[26315 rows x 4 columns]"
      ]
     },
     "execution_count": 148,
     "metadata": {},
     "output_type": "execute_result"
    }
   ],
   "source": [
    "df.dropna()"
   ]
  },
  {
   "cell_type": "code",
   "execution_count": 149,
   "id": "84187683-53f8-4769-9ac4-a33d4f6c9473",
   "metadata": {},
   "outputs": [
    {
     "data": {
      "text/plain": [
       "(52452, 4)"
      ]
     },
     "execution_count": 149,
     "metadata": {},
     "output_type": "execute_result"
    }
   ],
   "source": [
    "df.shape"
   ]
  },
  {
   "cell_type": "code",
   "execution_count": 150,
   "id": "96e55e89-f6c3-43c7-a50f-7f99e36d876c",
   "metadata": {},
   "outputs": [],
   "source": [
    "df[\"rating\"] = df[\"rating\"].fillna(df[\"rating\"].mean())"
   ]
  },
  {
   "cell_type": "code",
   "execution_count": 151,
   "id": "e1917e69-75f3-4407-8dd6-e02a70d6cca6",
   "metadata": {},
   "outputs": [
    {
     "data": {
      "text/plain": [
       "movie_name        1\n",
       "runtime       19922\n",
       "genre             0\n",
       "rating            0\n",
       "dtype: int64"
      ]
     },
     "execution_count": 151,
     "metadata": {},
     "output_type": "execute_result"
    }
   ],
   "source": [
    "df.isnull().sum()"
   ]
  },
  {
   "cell_type": "code",
   "execution_count": 152,
   "id": "6d0657fb-7b3b-4ecb-b8cd-54f257eba5bf",
   "metadata": {},
   "outputs": [],
   "source": [
    "df[[\"Time\", \"Unit\"]] = df[\"runtime\"].str.split(' ', expand = True)"
   ]
  },
  {
   "cell_type": "code",
   "execution_count": 153,
   "id": "70e32290-5aa1-4031-9c19-a1679da0509d",
   "metadata": {},
   "outputs": [
    {
     "data": {
      "text/html": [
       "<div>\n",
       "<style scoped>\n",
       "    .dataframe tbody tr th:only-of-type {\n",
       "        vertical-align: middle;\n",
       "    }\n",
       "\n",
       "    .dataframe tbody tr th {\n",
       "        vertical-align: top;\n",
       "    }\n",
       "\n",
       "    .dataframe thead th {\n",
       "        text-align: right;\n",
       "    }\n",
       "</style>\n",
       "<table border=\"1\" class=\"dataframe\">\n",
       "  <thead>\n",
       "    <tr style=\"text-align: right;\">\n",
       "      <th></th>\n",
       "      <th>movie_name</th>\n",
       "      <th>runtime</th>\n",
       "      <th>genre</th>\n",
       "      <th>rating</th>\n",
       "      <th>Time</th>\n",
       "      <th>Unit</th>\n",
       "    </tr>\n",
       "  </thead>\n",
       "  <tbody>\n",
       "    <tr>\n",
       "      <th>0</th>\n",
       "      <td>Black Panther: Wakanda Forever</td>\n",
       "      <td>161 min</td>\n",
       "      <td>Action, Adventure, Drama</td>\n",
       "      <td>6.900000</td>\n",
       "      <td>161</td>\n",
       "      <td>min</td>\n",
       "    </tr>\n",
       "    <tr>\n",
       "      <th>1</th>\n",
       "      <td>Avatar: The Way of Water</td>\n",
       "      <td>192 min</td>\n",
       "      <td>Action, Adventure, Fantasy</td>\n",
       "      <td>7.800000</td>\n",
       "      <td>192</td>\n",
       "      <td>min</td>\n",
       "    </tr>\n",
       "    <tr>\n",
       "      <th>2</th>\n",
       "      <td>Plane</td>\n",
       "      <td>107 min</td>\n",
       "      <td>Action, Thriller</td>\n",
       "      <td>6.500000</td>\n",
       "      <td>107</td>\n",
       "      <td>min</td>\n",
       "    </tr>\n",
       "    <tr>\n",
       "      <th>3</th>\n",
       "      <td>Everything Everywhere All at Once</td>\n",
       "      <td>139 min</td>\n",
       "      <td>Action, Adventure, Comedy</td>\n",
       "      <td>8.000000</td>\n",
       "      <td>139</td>\n",
       "      <td>min</td>\n",
       "    </tr>\n",
       "    <tr>\n",
       "      <th>4</th>\n",
       "      <td>Fast X</td>\n",
       "      <td>NaN</td>\n",
       "      <td>Action, Crime, Mystery</td>\n",
       "      <td>5.697755</td>\n",
       "      <td>NaN</td>\n",
       "      <td>NaN</td>\n",
       "    </tr>\n",
       "  </tbody>\n",
       "</table>\n",
       "</div>"
      ],
      "text/plain": [
       "                          movie_name  runtime                       genre  \\\n",
       "0     Black Panther: Wakanda Forever  161 min    Action, Adventure, Drama   \n",
       "1           Avatar: The Way of Water  192 min  Action, Adventure, Fantasy   \n",
       "2                              Plane  107 min            Action, Thriller   \n",
       "3  Everything Everywhere All at Once  139 min   Action, Adventure, Comedy   \n",
       "4                             Fast X      NaN      Action, Crime, Mystery   \n",
       "\n",
       "     rating Time Unit  \n",
       "0  6.900000  161  min  \n",
       "1  7.800000  192  min  \n",
       "2  6.500000  107  min  \n",
       "3  8.000000  139  min  \n",
       "4  5.697755  NaN  NaN  "
      ]
     },
     "execution_count": 153,
     "metadata": {},
     "output_type": "execute_result"
    }
   ],
   "source": [
    "df.head()"
   ]
  },
  {
   "cell_type": "markdown",
   "id": "9d8c264f-ef9a-49f8-92be-75fa76cb2fff",
   "metadata": {},
   "source": [
    "#### We split runtime into two columns, now we do not need runtime column anymore. Therefore we delete it"
   ]
  },
  {
   "cell_type": "code",
   "execution_count": 154,
   "id": "70359f68-48b1-4ac6-afe3-c6c6fe26d7a0",
   "metadata": {},
   "outputs": [],
   "source": [
    "del df[\"runtime\"]"
   ]
  },
  {
   "cell_type": "code",
   "execution_count": 155,
   "id": "c5ea9ea0-98b4-4b25-bbce-d5a3869c5028",
   "metadata": {},
   "outputs": [
    {
     "data": {
      "text/html": [
       "<div>\n",
       "<style scoped>\n",
       "    .dataframe tbody tr th:only-of-type {\n",
       "        vertical-align: middle;\n",
       "    }\n",
       "\n",
       "    .dataframe tbody tr th {\n",
       "        vertical-align: top;\n",
       "    }\n",
       "\n",
       "    .dataframe thead th {\n",
       "        text-align: right;\n",
       "    }\n",
       "</style>\n",
       "<table border=\"1\" class=\"dataframe\">\n",
       "  <thead>\n",
       "    <tr style=\"text-align: right;\">\n",
       "      <th></th>\n",
       "      <th>movie_name</th>\n",
       "      <th>genre</th>\n",
       "      <th>rating</th>\n",
       "      <th>Time</th>\n",
       "      <th>Unit</th>\n",
       "    </tr>\n",
       "  </thead>\n",
       "  <tbody>\n",
       "    <tr>\n",
       "      <th>0</th>\n",
       "      <td>Black Panther: Wakanda Forever</td>\n",
       "      <td>Action, Adventure, Drama</td>\n",
       "      <td>6.900000</td>\n",
       "      <td>161</td>\n",
       "      <td>min</td>\n",
       "    </tr>\n",
       "    <tr>\n",
       "      <th>1</th>\n",
       "      <td>Avatar: The Way of Water</td>\n",
       "      <td>Action, Adventure, Fantasy</td>\n",
       "      <td>7.800000</td>\n",
       "      <td>192</td>\n",
       "      <td>min</td>\n",
       "    </tr>\n",
       "    <tr>\n",
       "      <th>2</th>\n",
       "      <td>Plane</td>\n",
       "      <td>Action, Thriller</td>\n",
       "      <td>6.500000</td>\n",
       "      <td>107</td>\n",
       "      <td>min</td>\n",
       "    </tr>\n",
       "    <tr>\n",
       "      <th>3</th>\n",
       "      <td>Everything Everywhere All at Once</td>\n",
       "      <td>Action, Adventure, Comedy</td>\n",
       "      <td>8.000000</td>\n",
       "      <td>139</td>\n",
       "      <td>min</td>\n",
       "    </tr>\n",
       "    <tr>\n",
       "      <th>4</th>\n",
       "      <td>Fast X</td>\n",
       "      <td>Action, Crime, Mystery</td>\n",
       "      <td>5.697755</td>\n",
       "      <td>NaN</td>\n",
       "      <td>NaN</td>\n",
       "    </tr>\n",
       "  </tbody>\n",
       "</table>\n",
       "</div>"
      ],
      "text/plain": [
       "                          movie_name                       genre    rating  \\\n",
       "0     Black Panther: Wakanda Forever    Action, Adventure, Drama  6.900000   \n",
       "1           Avatar: The Way of Water  Action, Adventure, Fantasy  7.800000   \n",
       "2                              Plane            Action, Thriller  6.500000   \n",
       "3  Everything Everywhere All at Once   Action, Adventure, Comedy  8.000000   \n",
       "4                             Fast X      Action, Crime, Mystery  5.697755   \n",
       "\n",
       "  Time Unit  \n",
       "0  161  min  \n",
       "1  192  min  \n",
       "2  107  min  \n",
       "3  139  min  \n",
       "4  NaN  NaN  "
      ]
     },
     "execution_count": 155,
     "metadata": {},
     "output_type": "execute_result"
    }
   ],
   "source": [
    "df.head()"
   ]
  },
  {
   "cell_type": "code",
   "execution_count": 156,
   "id": "30ec0e7d-9ab0-47f6-82be-c57e85377231",
   "metadata": {},
   "outputs": [
    {
     "data": {
      "text/plain": [
       "movie_name        1\n",
       "genre             0\n",
       "rating            0\n",
       "Time          19922\n",
       "Unit          19922\n",
       "dtype: int64"
      ]
     },
     "execution_count": 156,
     "metadata": {},
     "output_type": "execute_result"
    }
   ],
   "source": [
    "df.isnull().sum()"
   ]
  },
  {
   "cell_type": "code",
   "execution_count": 157,
   "id": "01cef848-fdb5-46e2-a875-bb494938d3ba",
   "metadata": {},
   "outputs": [],
   "source": [
    "df[\"Time\"] = pandas.to_numeric(df[\"Time\"], errors=\"coerce\")"
   ]
  },
  {
   "cell_type": "code",
   "execution_count": 158,
   "id": "7ca1a57b-9267-4e1e-9c46-2dfa098ce731",
   "metadata": {},
   "outputs": [],
   "source": [
    "df[\"Time\"] = df[\"Time\"].fillna(df[\"Time\"].mean())"
   ]
  },
  {
   "cell_type": "code",
   "execution_count": 159,
   "id": "7d5f4363-08d1-40d9-a291-d929711d6a51",
   "metadata": {},
   "outputs": [
    {
     "data": {
      "text/plain": [
       "movie_name        1\n",
       "genre             0\n",
       "rating            0\n",
       "Time              0\n",
       "Unit          19922\n",
       "dtype: int64"
      ]
     },
     "execution_count": 159,
     "metadata": {},
     "output_type": "execute_result"
    }
   ],
   "source": [
    "df.isnull().sum()"
   ]
  },
  {
   "cell_type": "code",
   "execution_count": 160,
   "id": "598833a5-93a0-4ee7-9750-10f48970c6b9",
   "metadata": {},
   "outputs": [],
   "source": [
    "del df[\"Unit\"]"
   ]
  },
  {
   "cell_type": "code",
   "execution_count": 161,
   "id": "0cd669e7-115d-4468-8bce-5345ddbe8561",
   "metadata": {},
   "outputs": [
    {
     "data": {
      "text/html": [
       "<div>\n",
       "<style scoped>\n",
       "    .dataframe tbody tr th:only-of-type {\n",
       "        vertical-align: middle;\n",
       "    }\n",
       "\n",
       "    .dataframe tbody tr th {\n",
       "        vertical-align: top;\n",
       "    }\n",
       "\n",
       "    .dataframe thead th {\n",
       "        text-align: right;\n",
       "    }\n",
       "</style>\n",
       "<table border=\"1\" class=\"dataframe\">\n",
       "  <thead>\n",
       "    <tr style=\"text-align: right;\">\n",
       "      <th></th>\n",
       "      <th>movie_name</th>\n",
       "      <th>genre</th>\n",
       "      <th>rating</th>\n",
       "      <th>Time</th>\n",
       "    </tr>\n",
       "  </thead>\n",
       "  <tbody>\n",
       "    <tr>\n",
       "      <th>0</th>\n",
       "      <td>Black Panther: Wakanda Forever</td>\n",
       "      <td>Action, Adventure, Drama</td>\n",
       "      <td>6.900000</td>\n",
       "      <td>161.000000</td>\n",
       "    </tr>\n",
       "    <tr>\n",
       "      <th>1</th>\n",
       "      <td>Avatar: The Way of Water</td>\n",
       "      <td>Action, Adventure, Fantasy</td>\n",
       "      <td>7.800000</td>\n",
       "      <td>192.000000</td>\n",
       "    </tr>\n",
       "    <tr>\n",
       "      <th>2</th>\n",
       "      <td>Plane</td>\n",
       "      <td>Action, Thriller</td>\n",
       "      <td>6.500000</td>\n",
       "      <td>107.000000</td>\n",
       "    </tr>\n",
       "    <tr>\n",
       "      <th>3</th>\n",
       "      <td>Everything Everywhere All at Once</td>\n",
       "      <td>Action, Adventure, Comedy</td>\n",
       "      <td>8.000000</td>\n",
       "      <td>139.000000</td>\n",
       "    </tr>\n",
       "    <tr>\n",
       "      <th>4</th>\n",
       "      <td>Fast X</td>\n",
       "      <td>Action, Crime, Mystery</td>\n",
       "      <td>5.697755</td>\n",
       "      <td>100.955392</td>\n",
       "    </tr>\n",
       "  </tbody>\n",
       "</table>\n",
       "</div>"
      ],
      "text/plain": [
       "                          movie_name                       genre    rating  \\\n",
       "0     Black Panther: Wakanda Forever    Action, Adventure, Drama  6.900000   \n",
       "1           Avatar: The Way of Water  Action, Adventure, Fantasy  7.800000   \n",
       "2                              Plane            Action, Thriller  6.500000   \n",
       "3  Everything Everywhere All at Once   Action, Adventure, Comedy  8.000000   \n",
       "4                             Fast X      Action, Crime, Mystery  5.697755   \n",
       "\n",
       "         Time  \n",
       "0  161.000000  \n",
       "1  192.000000  \n",
       "2  107.000000  \n",
       "3  139.000000  \n",
       "4  100.955392  "
      ]
     },
     "execution_count": 161,
     "metadata": {},
     "output_type": "execute_result"
    }
   ],
   "source": [
    "df.head()"
   ]
  },
  {
   "cell_type": "code",
   "execution_count": 162,
   "id": "a4479bb6-e1d4-4278-8e7f-53397b114c40",
   "metadata": {},
   "outputs": [
    {
     "data": {
      "text/plain": [
       "movie_name    1\n",
       "genre         0\n",
       "rating        0\n",
       "Time          0\n",
       "dtype: int64"
      ]
     },
     "execution_count": 162,
     "metadata": {},
     "output_type": "execute_result"
    }
   ],
   "source": [
    "df.isnull().sum()"
   ]
  },
  {
   "cell_type": "code",
   "execution_count": 163,
   "id": "4a4fdbe3-b2ab-4bc5-98ff-f6c95fa5fb3a",
   "metadata": {},
   "outputs": [],
   "source": [
    "df['Genre'] = df['genre'].str.split(',').str[0].str.strip()"
   ]
  },
  {
   "cell_type": "code",
   "execution_count": 164,
   "id": "e6ee7f6d-5968-4b03-973d-be37648b6a84",
   "metadata": {},
   "outputs": [
    {
     "data": {
      "text/html": [
       "<div>\n",
       "<style scoped>\n",
       "    .dataframe tbody tr th:only-of-type {\n",
       "        vertical-align: middle;\n",
       "    }\n",
       "\n",
       "    .dataframe tbody tr th {\n",
       "        vertical-align: top;\n",
       "    }\n",
       "\n",
       "    .dataframe thead th {\n",
       "        text-align: right;\n",
       "    }\n",
       "</style>\n",
       "<table border=\"1\" class=\"dataframe\">\n",
       "  <thead>\n",
       "    <tr style=\"text-align: right;\">\n",
       "      <th></th>\n",
       "      <th>movie_name</th>\n",
       "      <th>genre</th>\n",
       "      <th>rating</th>\n",
       "      <th>Time</th>\n",
       "      <th>Genre</th>\n",
       "    </tr>\n",
       "  </thead>\n",
       "  <tbody>\n",
       "    <tr>\n",
       "      <th>0</th>\n",
       "      <td>Black Panther: Wakanda Forever</td>\n",
       "      <td>Action, Adventure, Drama</td>\n",
       "      <td>6.900000</td>\n",
       "      <td>161.000000</td>\n",
       "      <td>Action</td>\n",
       "    </tr>\n",
       "    <tr>\n",
       "      <th>1</th>\n",
       "      <td>Avatar: The Way of Water</td>\n",
       "      <td>Action, Adventure, Fantasy</td>\n",
       "      <td>7.800000</td>\n",
       "      <td>192.000000</td>\n",
       "      <td>Action</td>\n",
       "    </tr>\n",
       "    <tr>\n",
       "      <th>2</th>\n",
       "      <td>Plane</td>\n",
       "      <td>Action, Thriller</td>\n",
       "      <td>6.500000</td>\n",
       "      <td>107.000000</td>\n",
       "      <td>Action</td>\n",
       "    </tr>\n",
       "    <tr>\n",
       "      <th>3</th>\n",
       "      <td>Everything Everywhere All at Once</td>\n",
       "      <td>Action, Adventure, Comedy</td>\n",
       "      <td>8.000000</td>\n",
       "      <td>139.000000</td>\n",
       "      <td>Action</td>\n",
       "    </tr>\n",
       "    <tr>\n",
       "      <th>4</th>\n",
       "      <td>Fast X</td>\n",
       "      <td>Action, Crime, Mystery</td>\n",
       "      <td>5.697755</td>\n",
       "      <td>100.955392</td>\n",
       "      <td>Action</td>\n",
       "    </tr>\n",
       "  </tbody>\n",
       "</table>\n",
       "</div>"
      ],
      "text/plain": [
       "                          movie_name                       genre    rating  \\\n",
       "0     Black Panther: Wakanda Forever    Action, Adventure, Drama  6.900000   \n",
       "1           Avatar: The Way of Water  Action, Adventure, Fantasy  7.800000   \n",
       "2                              Plane            Action, Thriller  6.500000   \n",
       "3  Everything Everywhere All at Once   Action, Adventure, Comedy  8.000000   \n",
       "4                             Fast X      Action, Crime, Mystery  5.697755   \n",
       "\n",
       "         Time   Genre  \n",
       "0  161.000000  Action  \n",
       "1  192.000000  Action  \n",
       "2  107.000000  Action  \n",
       "3  139.000000  Action  \n",
       "4  100.955392  Action  "
      ]
     },
     "execution_count": 164,
     "metadata": {},
     "output_type": "execute_result"
    }
   ],
   "source": [
    "df.head()"
   ]
  },
  {
   "cell_type": "code",
   "execution_count": 165,
   "id": "5df2e65d-4747-4f82-836d-52d561944bde",
   "metadata": {},
   "outputs": [],
   "source": [
    "del df[\"genre\"]"
   ]
  },
  {
   "cell_type": "code",
   "execution_count": 166,
   "id": "093d3208-5510-4860-bd1d-8df6dc6ed9a4",
   "metadata": {},
   "outputs": [
    {
     "data": {
      "text/html": [
       "<div>\n",
       "<style scoped>\n",
       "    .dataframe tbody tr th:only-of-type {\n",
       "        vertical-align: middle;\n",
       "    }\n",
       "\n",
       "    .dataframe tbody tr th {\n",
       "        vertical-align: top;\n",
       "    }\n",
       "\n",
       "    .dataframe thead th {\n",
       "        text-align: right;\n",
       "    }\n",
       "</style>\n",
       "<table border=\"1\" class=\"dataframe\">\n",
       "  <thead>\n",
       "    <tr style=\"text-align: right;\">\n",
       "      <th></th>\n",
       "      <th>movie_name</th>\n",
       "      <th>rating</th>\n",
       "      <th>Time</th>\n",
       "      <th>Genre</th>\n",
       "    </tr>\n",
       "  </thead>\n",
       "  <tbody>\n",
       "    <tr>\n",
       "      <th>0</th>\n",
       "      <td>Black Panther: Wakanda Forever</td>\n",
       "      <td>6.900000</td>\n",
       "      <td>161.000000</td>\n",
       "      <td>Action</td>\n",
       "    </tr>\n",
       "    <tr>\n",
       "      <th>1</th>\n",
       "      <td>Avatar: The Way of Water</td>\n",
       "      <td>7.800000</td>\n",
       "      <td>192.000000</td>\n",
       "      <td>Action</td>\n",
       "    </tr>\n",
       "    <tr>\n",
       "      <th>2</th>\n",
       "      <td>Plane</td>\n",
       "      <td>6.500000</td>\n",
       "      <td>107.000000</td>\n",
       "      <td>Action</td>\n",
       "    </tr>\n",
       "    <tr>\n",
       "      <th>3</th>\n",
       "      <td>Everything Everywhere All at Once</td>\n",
       "      <td>8.000000</td>\n",
       "      <td>139.000000</td>\n",
       "      <td>Action</td>\n",
       "    </tr>\n",
       "    <tr>\n",
       "      <th>4</th>\n",
       "      <td>Fast X</td>\n",
       "      <td>5.697755</td>\n",
       "      <td>100.955392</td>\n",
       "      <td>Action</td>\n",
       "    </tr>\n",
       "  </tbody>\n",
       "</table>\n",
       "</div>"
      ],
      "text/plain": [
       "                          movie_name    rating        Time   Genre\n",
       "0     Black Panther: Wakanda Forever  6.900000  161.000000  Action\n",
       "1           Avatar: The Way of Water  7.800000  192.000000  Action\n",
       "2                              Plane  6.500000  107.000000  Action\n",
       "3  Everything Everywhere All at Once  8.000000  139.000000  Action\n",
       "4                             Fast X  5.697755  100.955392  Action"
      ]
     },
     "execution_count": 166,
     "metadata": {},
     "output_type": "execute_result"
    }
   ],
   "source": [
    "df.head()"
   ]
  },
  {
   "cell_type": "code",
   "execution_count": 167,
   "id": "92bbba62-d779-449c-ae7f-f3a8c1cddf59",
   "metadata": {},
   "outputs": [],
   "source": [
    "Df = df[[\"rating\", \"Time\", \"Genre\"]]"
   ]
  },
  {
   "cell_type": "code",
   "execution_count": 168,
   "id": "3f979262-8cb1-4164-80c0-3dc2c1657500",
   "metadata": {},
   "outputs": [
    {
     "data": {
      "text/plain": [
       "0        6.900000\n",
       "1        7.800000\n",
       "2        6.500000\n",
       "3        8.000000\n",
       "4        5.697755\n",
       "           ...   \n",
       "52447    5.697755\n",
       "52448    5.697755\n",
       "52449    5.697755\n",
       "52450    5.697755\n",
       "52451    5.697755\n",
       "Name: rating, Length: 52452, dtype: float64"
      ]
     },
     "execution_count": 168,
     "metadata": {},
     "output_type": "execute_result"
    }
   ],
   "source": [
    "Df.rating"
   ]
  },
  {
   "cell_type": "code",
   "execution_count": 169,
   "id": "72e65f8e-0618-4106-ab43-4306706669fb",
   "metadata": {},
   "outputs": [
    {
     "name": "stdout",
     "output_type": "stream",
     "text": [
      "17\n"
     ]
    }
   ],
   "source": [
    "genres = df.Genre.nunique()\n",
    "print(genres)"
   ]
  },
  {
   "cell_type": "code",
   "execution_count": 170,
   "id": "0b52e32b-4955-415a-ab01-1159e9944832",
   "metadata": {},
   "outputs": [
    {
     "name": "stdout",
     "output_type": "stream",
     "text": [
      "['Action' 'Animation' 'Drama' 'Comedy' 'Adventure' 'Western' 'War' 'Crime'\n",
      " 'Mystery' 'Musical' 'Romance' 'Sci-Fi' 'Fantasy' 'Horror' 'Thriller'\n",
      " 'Family' 'Biography']\n"
     ]
    }
   ],
   "source": [
    "g = df.Genre.unique()\n",
    "print(g)"
   ]
  },
  {
   "cell_type": "code",
   "execution_count": 171,
   "id": "0633341c-f3be-4763-8d65-2bdecba71174",
   "metadata": {},
   "outputs": [
    {
     "name": "stdout",
     "output_type": "stream",
     "text": [
      "                              movie_name    rating        Time   Genre  genre\n",
      "0         Black Panther: Wakanda Forever  6.900000  161.000000  Action      1\n",
      "1               Avatar: The Way of Water  7.800000  192.000000  Action      1\n",
      "2                                  Plane  6.500000  107.000000  Action      1\n",
      "3      Everything Everywhere All at Once  8.000000  139.000000  Action      1\n",
      "4                                 Fast X  5.697755  100.955392  Action      1\n",
      "...                                  ...       ...         ...     ...    ...\n",
      "52447                          Suicide 2  5.697755   54.000000  Action      1\n",
      "52448                              Chaos  5.697755  100.955392  Action      1\n",
      "52449                      Revolver Lily  5.697755  100.955392  Action      1\n",
      "52450                           The Wing  5.697755  100.955392  Action      1\n",
      "52451                       Vey Dharuvey  5.697755  100.955392  Action      1\n",
      "\n",
      "[52452 rows x 5 columns]\n"
     ]
    }
   ],
   "source": [
    "# Genre Mapping\n",
    "genres = {\n",
    "    'Action': 1, \n",
    "    'Animation': 2, \n",
    "    'Drama': 3, \n",
    "    'Comedy': 4, \n",
    "    'Adventure': 5, \n",
    "    'Western': 6, \n",
    "    'War': 7, \n",
    "    'Crime': 8, \n",
    "    'Mystery': 9, \n",
    "    'Musical': 10, \n",
    "    'Romance': 11, \n",
    "    'Sci-Fi': 12, \n",
    "    'Fantasy': 13, \n",
    "    'Horror': 14, \n",
    "    'Thriller': 15, \n",
    "    'Family': 16, \n",
    "    'Biography': 17\n",
    "}\n",
    "df[\"genre\"] = df[\"Genre\"].map(genres)\n",
    "print(df)"
   ]
  },
  {
   "cell_type": "code",
   "execution_count": 172,
   "id": "989fbe52-4c5d-41a7-9e73-9cb1d9c689fd",
   "metadata": {},
   "outputs": [],
   "source": [
    "import math"
   ]
  },
  {
   "cell_type": "code",
   "execution_count": 173,
   "id": "0b2543f4-9645-4295-ac23-c784c56b9a60",
   "metadata": {},
   "outputs": [],
   "source": [
    "def ed(x1,y1):\n",
    "    d = math.sqrt((x1 - x) ** 2 + (y1 - y) ** 2)\n",
    "    return d"
   ]
  },
  {
   "cell_type": "code",
   "execution_count": 174,
   "id": "952ae2a3-f4e4-4b7b-b551-64a5a9a219cb",
   "metadata": {},
   "outputs": [],
   "source": [
    "from collections import Counter"
   ]
  },
  {
   "cell_type": "code",
   "execution_count": 193,
   "id": "252e169c-8e19-404e-ad43-a168552fa4de",
   "metadata": {},
   "outputs": [
    {
     "name": "stdout",
     "output_type": "stream",
     "text": [
      "We will predict the rating of the movie by knowing it's name, time and rating of the movie\n"
     ]
    },
    {
     "name": "stdin",
     "output_type": "stream",
     "text": [
      "Name: Tarzan\n",
      "Time (in minutes): 98\n",
      "Rating: 5.6\n",
      "Enter number of bins 5\n"
     ]
    },
    {
     "name": "stdout",
     "output_type": "stream",
     "text": [
      "\n",
      "Predicting...\n",
      "\n",
      "The minimum distance is: 90.31085206108953\n",
      "The predicted genre is of the movie Tarzan is: Action\n"
     ]
    }
   ],
   "source": [
    "print(\"We will predict the rating of the movie by knowing it's name, time and rating of the movie\")\n",
    "n = input(\"Name:\")\n",
    "x = float(input(\"Time (in minutes):\"))\n",
    "y = float(input(\"Rating:\"))\n",
    "c = int(input(\"Enter number of bins\"))\n",
    "\n",
    "dist = []\n",
    "\n",
    "print()\n",
    "print(\"Predicting...\")\n",
    "print()\n",
    "\n",
    "m = float('inf')\n",
    "G = []\n",
    "indexes = []\n",
    "for index, row in Df.iterrows():\n",
    "    d = ed(row['rating'], row['Time'])\n",
    "    dist.append(d)\n",
    "    indexes.append(index)\n",
    "\n",
    "di = list(zip(dist,indexes))\n",
    "closest = sorted(di)[:c]\n",
    "\n",
    "ind = []\n",
    "for distance, index in closest:\n",
    "    ind.append(index)\n",
    "\n",
    "gen = []\n",
    "for i in ind:\n",
    "    gen.append(Df.Genre[i])\n",
    "\n",
    "counter = Counter(gen)\n",
    "#print(\"The minimum distance is:\", sorted(dist)[0])\n",
    "print(f\"The predicted genre is of the movie {n} is:\", counter.most_common(1)[0][0])\n",
    "#print(closest)\n",
    "#print(gen)\n"
   ]
  },
  {
   "cell_type": "code",
   "execution_count": 262,
   "id": "4b244e2e-3b17-4505-87c0-476016a4d56c",
   "metadata": {},
   "outputs": [
    {
     "name": "stderr",
     "output_type": "stream",
     "text": [
      "Exception in Tkinter callback\n",
      "Traceback (most recent call last):\n",
      "  File \"C:\\Users\\hp\\AppData\\Local\\Programs\\Python\\Python312\\Lib\\tkinter\\__init__.py\", line 1968, in __call__\n",
      "    return self.func(*args)\n",
      "           ^^^^^^^^^^^^^^^^\n",
      "  File \"C:\\Users\\hp\\AppData\\Local\\Temp\\ipykernel_16736\\4273898120.py\", line 59, in out\n",
      "    d = ed(row['rating'], row['Time'])\n",
      "        ^^^^^^^^^^^^^^^^^^^^^^^^^^^^^^\n",
      "  File \"C:\\Users\\hp\\AppData\\Local\\Temp\\ipykernel_16736\\4273898120.py\", line 46, in ed\n",
      "    d = math.sqrt((x1 - x) ** 2 + (y1 - y) ** 2)\n",
      "                   ~~~^~~\n",
      "TypeError: unsupported operand type(s) for -: 'float' and 'str'\n"
     ]
    }
   ],
   "source": [
    "import tkinter\n",
    "\n",
    "window = tkinter.Tk()\n",
    "window.minsize(width = 330, height = 350)\n",
    "window.config(bg = \"light blue\")\n",
    "window.title(\"Movie Genre Prediction\")\n",
    "\n",
    "head = tkinter.Label()\n",
    "head.config(text = \"Movie Genre Prediction \\n using KNN (Without Model)\", font = (\"Helvatica\", 15, \"bold\"))\n",
    "head.config(padx = 10, pady = 10, highlightthickness = 1, highlightbackground = \"black\")\n",
    "head.grid(row = 1, column = 1, columnspan = 2, padx = 10, pady = 10)\n",
    "\n",
    "name = tkinter.Label()\n",
    "name.config(text = \"Movie Name:\", font = (\"Sans Serif\", 11, \"normal\"), bg = \"light blue\")\n",
    "name.grid(row = 2, column = 1, padx = 10, pady = 5)\n",
    "\n",
    "name_text = tkinter.Text()\n",
    "name_text.config(height = 1, width = 20)\n",
    "name_text.grid(row = 2, column = 2, padx = 10, pady = 5)\n",
    "\n",
    "rating = tkinter.Label()\n",
    "rating.config(text = \"Rating (IMDB):\", font = (\"Sans Serif\", 11, \"normal\"), bg = \"light blue\")\n",
    "rating.grid(row = 3, column = 1, padx = 10, pady = 5)\n",
    "\n",
    "rating_text = tkinter.Text()\n",
    "rating_text.config(height = 1, width = 20)\n",
    "rating_text.grid(row = 3, column = 2, padx = 10, pady = 5)\n",
    "\n",
    "time = tkinter.Label()\n",
    "time.config(text = \"Time (in mins):\", font = (\"Sans Serif\", 11, \"normal\"), bg = \"light blue\")\n",
    "time.grid(row = 4, column = 1, padx = 10, pady = 5)\n",
    "\n",
    "time_text = tkinter.Text()\n",
    "time_text.config(height = 1, width = 20)\n",
    "time_text.grid(row = 4, column = 2, padx = 10, pady = 5)\n",
    "\n",
    "bin = tkinter.Label()\n",
    "bin.config(text = \"Bins:\", font = (\"Sans Serif\", 11, \"normal\"), bg = \"light blue\")\n",
    "bin.grid(row = 5, column = 1, padx = 10, pady = 5)\n",
    "\n",
    "bin_text = tkinter.Text()\n",
    "bin_text.config(height = 1, width = 20)\n",
    "bin_text.grid(row = 5, column = 2, padx = 10, pady = 5)\n",
    "\n",
    "def ed(x1,y1):\n",
    "    d = math.sqrt((x1 - x) ** 2 + (y1 - y) ** 2)\n",
    "    return d\n",
    "\n",
    "def out():\n",
    "    x = float(time_text.get(\"1.0\", \"end-1c\").strip()) \n",
    "    y = float(rating_text.get(\"1.0\", \"end-1c\").strip())\n",
    "    c = int(bin_text.get(\"1.0\", \"end-1c\").strip()) \n",
    "\n",
    "    dist = []\n",
    "    m = float('inf')\n",
    "    G = []\n",
    "    indexes = []\n",
    "    for index, row in Df.iterrows():\n",
    "        d = ed(row['rating'], row['Time'])\n",
    "        dist.append(d)\n",
    "        indexes.append(index)\n",
    "    \n",
    "    di = list(zip(dist,indexes))\n",
    "    closest = sorted(di)[:c]\n",
    "    \n",
    "    ind = []\n",
    "    for distance, index in closest:\n",
    "        ind.append(index)\n",
    "    \n",
    "    gen = []\n",
    "    for i in ind:\n",
    "        gen.append(Df.Genre[i])\n",
    "    \n",
    "    counter = Counter(gen)\n",
    "    output = tkinter.Label()\n",
    "    output.config(text = f\"The predicted genre is: {counter.most_common(1)[0][0]}\", font = (\"Sans Serif\", 11, \"normal\"))\n",
    "    output.config(bg = \"white\", highlightthickness = 1, highlightbackground = \"black\")\n",
    "    output.grid(row = 7, column = 1, columnspan = 2, padx = 10, pady = 5)\n",
    "    \n",
    "predict = tkinter.Button(command = out)\n",
    "predict.config(text = \"Predict\", font = (\"Sans Serif\", 11, \"normal\"))\n",
    "predict.grid(column = 1, row = 6, columnspan = 2, padx = 10, pady = 5)\n",
    "\n",
    "window.mainloop()"
   ]
  },
  {
   "cell_type": "code",
   "execution_count": null,
   "id": "6e9fb28f-5786-4935-b4a8-0f3ae23f64e7",
   "metadata": {},
   "outputs": [],
   "source": []
  }
 ],
 "metadata": {
  "kernelspec": {
   "display_name": "Python 3 (ipykernel)",
   "language": "python",
   "name": "python3"
  },
  "language_info": {
   "codemirror_mode": {
    "name": "ipython",
    "version": 3
   },
   "file_extension": ".py",
   "mimetype": "text/x-python",
   "name": "python",
   "nbconvert_exporter": "python",
   "pygments_lexer": "ipython3",
   "version": "3.12.6"
  }
 },
 "nbformat": 4,
 "nbformat_minor": 5
}
